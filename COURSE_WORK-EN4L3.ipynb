{
 "cells": [
  {
   "cell_type": "markdown",
   "id": "4e6eaebc",
   "metadata": {},
   "source": [
    "#  CM3400 Assessment - Introduction to Data Science with Python "
   ]
  },
  {
   "cell_type": "markdown",
   "id": "44099a4a",
   "metadata": {},
   "source": [
    "## WRITTEN BY :- EN4L3"
   ]
  },
  {
   "cell_type": "code",
   "execution_count": null,
   "id": "a521bc03",
   "metadata": {},
   "outputs": [],
   "source": []
  },
  {
   "cell_type": "code",
   "execution_count": 2,
   "id": "e21c9349",
   "metadata": {},
   "outputs": [],
   "source": [
    "#Import Packages \n",
    "import pandas as pd\n",
    "import matplotlib.pyplot as plt\n",
    "import seaborn as sns"
   ]
  },
  {
   "cell_type": "code",
   "execution_count": null,
   "id": "b93729c7",
   "metadata": {},
   "outputs": [],
   "source": []
  },
  {
   "cell_type": "code",
   "execution_count": 3,
   "id": "9cc9cc79",
   "metadata": {},
   "outputs": [
    {
     "data": {
      "text/plain": [
       "(205, 15)"
      ]
     },
     "execution_count": 3,
     "metadata": {},
     "output_type": "execute_result"
    }
   ],
   "source": [
    "## LOAD DATASET FROM LOCAL DIRECTORY\n",
    "Matches_Data = pd.read_csv('matches.csv')\n",
    "\n",
    "##VIEW ATTRIBUTES AND DATATYPES\n",
    "Matches_Data.shape\n"
   ]
  },
  {
   "cell_type": "code",
   "execution_count": 4,
   "id": "37b2a8bd",
   "metadata": {},
   "outputs": [
    {
     "name": "stdout",
     "output_type": "stream",
     "text": [
      "<class 'pandas.core.frame.DataFrame'>\n",
      "RangeIndex: 205 entries, 0 to 204\n",
      "Data columns (total 15 columns):\n",
      " #   Column      Non-Null Count  Dtype  \n",
      "---  ------      --------------  -----  \n",
      " 0   Day         205 non-null    object \n",
      " 1   Month       205 non-null    object \n",
      " 2   Training    200 non-null    object \n",
      " 3   Injuries    205 non-null    int64  \n",
      " 4   OppPtsDiff  205 non-null    int64  \n",
      " 5   RedCards    205 non-null    int64  \n",
      " 6   Venue       205 non-null    object \n",
      " 7   Temp        205 non-null    float64\n",
      " 8   Rain        205 non-null    float64\n",
      " 9   Wind        205 non-null    float64\n",
      " 10  Snow        205 non-null    object \n",
      " 11  Possession  200 non-null    object \n",
      " 12  KickOff     205 non-null    object \n",
      " 13  Supporters  205 non-null    int64  \n",
      " 14  Result      205 non-null    object \n",
      "dtypes: float64(3), int64(4), object(8)\n",
      "memory usage: 24.1+ KB\n"
     ]
    }
   ],
   "source": [
    "Matches_Data.info()"
   ]
  },
  {
   "cell_type": "code",
   "execution_count": null,
   "id": "bf765d27",
   "metadata": {},
   "outputs": [],
   "source": []
  },
  {
   "cell_type": "markdown",
   "id": "9e4193e0",
   "metadata": {},
   "source": [
    "### Data Cleaning Task"
   ]
  },
  {
   "cell_type": "markdown",
   "id": "b9d6e01d",
   "metadata": {},
   "source": [
    "###### Question 1\n"
   ]
  },
  {
   "cell_type": "code",
   "execution_count": 5,
   "id": "593822ea",
   "metadata": {},
   "outputs": [
    {
     "data": {
      "text/plain": [
       "Day           0\n",
       "Month         0\n",
       "Training      5\n",
       "Injuries      0\n",
       "OppPtsDiff    0\n",
       "RedCards      0\n",
       "Venue         0\n",
       "Temp          0\n",
       "Rain          0\n",
       "Wind          0\n",
       "Snow          0\n",
       "Possession    5\n",
       "KickOff       0\n",
       "Supporters    0\n",
       "Result        0\n",
       "dtype: int64"
      ]
     },
     "execution_count": 5,
     "metadata": {},
     "output_type": "execute_result"
    }
   ],
   "source": [
    "Matches_Data.isna().sum() #Identify Missing Data"
   ]
  },
  {
   "cell_type": "code",
   "execution_count": 6,
   "id": "45875b19",
   "metadata": {},
   "outputs": [
    {
     "data": {
      "text/plain": [
       "Day           0\n",
       "Month         0\n",
       "Training      0\n",
       "Injuries      0\n",
       "OppPtsDiff    0\n",
       "RedCards      0\n",
       "Venue         0\n",
       "Temp          0\n",
       "Rain          0\n",
       "Wind          0\n",
       "Snow          0\n",
       "Possession    0\n",
       "KickOff       0\n",
       "Supporters    0\n",
       "Result        0\n",
       "dtype: int64"
      ]
     },
     "execution_count": 6,
     "metadata": {},
     "output_type": "execute_result"
    }
   ],
   "source": [
    "Matches_Data = Matches_Data.dropna() #Remove Missing Rows\n",
    "Matches_Data.isna().sum()"
   ]
  },
  {
   "cell_type": "code",
   "execution_count": 7,
   "id": "307ad672",
   "metadata": {},
   "outputs": [
    {
     "data": {
      "text/plain": [
       "(198, 15)"
      ]
     },
     "execution_count": 7,
     "metadata": {},
     "output_type": "execute_result"
    }
   ],
   "source": [
    "Matches_Data.shape"
   ]
  },
  {
   "cell_type": "code",
   "execution_count": 8,
   "id": "4b20c72d",
   "metadata": {},
   "outputs": [
    {
     "data": {
      "text/html": [
       "<div>\n",
       "<style scoped>\n",
       "    .dataframe tbody tr th:only-of-type {\n",
       "        vertical-align: middle;\n",
       "    }\n",
       "\n",
       "    .dataframe tbody tr th {\n",
       "        vertical-align: top;\n",
       "    }\n",
       "\n",
       "    .dataframe thead th {\n",
       "        text-align: right;\n",
       "    }\n",
       "</style>\n",
       "<table border=\"1\" class=\"dataframe\">\n",
       "  <thead>\n",
       "    <tr style=\"text-align: right;\">\n",
       "      <th></th>\n",
       "      <th>Day</th>\n",
       "      <th>Month</th>\n",
       "      <th>Training</th>\n",
       "      <th>Injuries</th>\n",
       "      <th>OppPtsDiff</th>\n",
       "      <th>RedCards</th>\n",
       "      <th>Venue</th>\n",
       "      <th>Temp</th>\n",
       "      <th>Rain</th>\n",
       "      <th>Wind</th>\n",
       "      <th>Snow</th>\n",
       "      <th>Possession</th>\n",
       "      <th>KickOff</th>\n",
       "      <th>Supporters</th>\n",
       "      <th>Result</th>\n",
       "    </tr>\n",
       "  </thead>\n",
       "  <tbody>\n",
       "    <tr>\n",
       "      <th>15</th>\n",
       "      <td>Wed</td>\n",
       "      <td>May</td>\n",
       "      <td>8hr 0min</td>\n",
       "      <td>2</td>\n",
       "      <td>5</td>\n",
       "      <td>1</td>\n",
       "      <td>Away</td>\n",
       "      <td>16.4</td>\n",
       "      <td>7.7</td>\n",
       "      <td>7.6</td>\n",
       "      <td>No</td>\n",
       "      <td>40.70%</td>\n",
       "      <td>20:00</td>\n",
       "      <td>9796</td>\n",
       "      <td>Lose</td>\n",
       "    </tr>\n",
       "    <tr>\n",
       "      <th>46</th>\n",
       "      <td>Wed</td>\n",
       "      <td>Aug</td>\n",
       "      <td>13hr 30min</td>\n",
       "      <td>0</td>\n",
       "      <td>-12</td>\n",
       "      <td>0</td>\n",
       "      <td>Home</td>\n",
       "      <td>20.5</td>\n",
       "      <td>1.5</td>\n",
       "      <td>9.2</td>\n",
       "      <td>No</td>\n",
       "      <td>67.40%</td>\n",
       "      <td>17:30</td>\n",
       "      <td>10824</td>\n",
       "      <td>Win</td>\n",
       "    </tr>\n",
       "    <tr>\n",
       "      <th>61</th>\n",
       "      <td>Sat</td>\n",
       "      <td>Apr</td>\n",
       "      <td>9hr 30min</td>\n",
       "      <td>2</td>\n",
       "      <td>5</td>\n",
       "      <td>1</td>\n",
       "      <td>Away</td>\n",
       "      <td>10.6</td>\n",
       "      <td>7.2</td>\n",
       "      <td>9.9</td>\n",
       "      <td>No</td>\n",
       "      <td>39%</td>\n",
       "      <td>15:00</td>\n",
       "      <td>9793</td>\n",
       "      <td>Win</td>\n",
       "    </tr>\n",
       "    <tr>\n",
       "      <th>98</th>\n",
       "      <td>Sat</td>\n",
       "      <td>Sep</td>\n",
       "      <td>8hr 30min</td>\n",
       "      <td>0</td>\n",
       "      <td>-8</td>\n",
       "      <td>3</td>\n",
       "      <td>Home</td>\n",
       "      <td>11.7</td>\n",
       "      <td>7.9</td>\n",
       "      <td>9.9</td>\n",
       "      <td>No</td>\n",
       "      <td>51.60%</td>\n",
       "      <td>15:00</td>\n",
       "      <td>8190</td>\n",
       "      <td>Win</td>\n",
       "    </tr>\n",
       "    <tr>\n",
       "      <th>125</th>\n",
       "      <td>Wed</td>\n",
       "      <td>Aug</td>\n",
       "      <td>13hr 30min</td>\n",
       "      <td>0</td>\n",
       "      <td>-12</td>\n",
       "      <td>0</td>\n",
       "      <td>Home</td>\n",
       "      <td>20.5</td>\n",
       "      <td>1.5</td>\n",
       "      <td>9.2</td>\n",
       "      <td>No</td>\n",
       "      <td>67.40%</td>\n",
       "      <td>17:30</td>\n",
       "      <td>10824</td>\n",
       "      <td>Win</td>\n",
       "    </tr>\n",
       "    <tr>\n",
       "      <th>133</th>\n",
       "      <td>Wed</td>\n",
       "      <td>May</td>\n",
       "      <td>8hr 0min</td>\n",
       "      <td>2</td>\n",
       "      <td>5</td>\n",
       "      <td>1</td>\n",
       "      <td>Away</td>\n",
       "      <td>16.4</td>\n",
       "      <td>7.7</td>\n",
       "      <td>7.6</td>\n",
       "      <td>No</td>\n",
       "      <td>40.70%</td>\n",
       "      <td>20:00</td>\n",
       "      <td>9796</td>\n",
       "      <td>Lose</td>\n",
       "    </tr>\n",
       "    <tr>\n",
       "      <th>141</th>\n",
       "      <td>Sat</td>\n",
       "      <td>Apr</td>\n",
       "      <td>8hr 30min</td>\n",
       "      <td>2</td>\n",
       "      <td>1</td>\n",
       "      <td>1</td>\n",
       "      <td>Away</td>\n",
       "      <td>8.8</td>\n",
       "      <td>4.5</td>\n",
       "      <td>12.5</td>\n",
       "      <td>No</td>\n",
       "      <td>47.20%</td>\n",
       "      <td>12:30</td>\n",
       "      <td>8888</td>\n",
       "      <td>Lose</td>\n",
       "    </tr>\n",
       "    <tr>\n",
       "      <th>158</th>\n",
       "      <td>Sat</td>\n",
       "      <td>Apr</td>\n",
       "      <td>9hr 30min</td>\n",
       "      <td>2</td>\n",
       "      <td>5</td>\n",
       "      <td>1</td>\n",
       "      <td>Away</td>\n",
       "      <td>10.6</td>\n",
       "      <td>7.2</td>\n",
       "      <td>9.9</td>\n",
       "      <td>No</td>\n",
       "      <td>39%</td>\n",
       "      <td>15:00</td>\n",
       "      <td>9793</td>\n",
       "      <td>Win</td>\n",
       "    </tr>\n",
       "    <tr>\n",
       "      <th>165</th>\n",
       "      <td>Sat</td>\n",
       "      <td>Apr</td>\n",
       "      <td>8hr 30min</td>\n",
       "      <td>2</td>\n",
       "      <td>1</td>\n",
       "      <td>1</td>\n",
       "      <td>Away</td>\n",
       "      <td>8.8</td>\n",
       "      <td>4.5</td>\n",
       "      <td>12.5</td>\n",
       "      <td>No</td>\n",
       "      <td>47.20%</td>\n",
       "      <td>12:30</td>\n",
       "      <td>8888</td>\n",
       "      <td>Lose</td>\n",
       "    </tr>\n",
       "    <tr>\n",
       "      <th>196</th>\n",
       "      <td>Sat</td>\n",
       "      <td>Sep</td>\n",
       "      <td>8hr 30min</td>\n",
       "      <td>0</td>\n",
       "      <td>-8</td>\n",
       "      <td>3</td>\n",
       "      <td>Home</td>\n",
       "      <td>11.7</td>\n",
       "      <td>7.9</td>\n",
       "      <td>9.9</td>\n",
       "      <td>No</td>\n",
       "      <td>51.60%</td>\n",
       "      <td>15:00</td>\n",
       "      <td>8190</td>\n",
       "      <td>Win</td>\n",
       "    </tr>\n",
       "  </tbody>\n",
       "</table>\n",
       "</div>"
      ],
      "text/plain": [
       "     Day Month    Training  Injuries  OppPtsDiff  RedCards Venue  Temp  Rain  \\\n",
       "15   Wed   May    8hr 0min         2           5         1  Away  16.4   7.7   \n",
       "46   Wed   Aug  13hr 30min         0         -12         0  Home  20.5   1.5   \n",
       "61   Sat   Apr   9hr 30min         2           5         1  Away  10.6   7.2   \n",
       "98   Sat   Sep   8hr 30min         0          -8         3  Home  11.7   7.9   \n",
       "125  Wed   Aug  13hr 30min         0         -12         0  Home  20.5   1.5   \n",
       "133  Wed   May    8hr 0min         2           5         1  Away  16.4   7.7   \n",
       "141  Sat   Apr   8hr 30min         2           1         1  Away   8.8   4.5   \n",
       "158  Sat   Apr   9hr 30min         2           5         1  Away  10.6   7.2   \n",
       "165  Sat   Apr   8hr 30min         2           1         1  Away   8.8   4.5   \n",
       "196  Sat   Sep   8hr 30min         0          -8         3  Home  11.7   7.9   \n",
       "\n",
       "     Wind Snow Possession KickOff  Supporters Result  \n",
       "15    7.6   No     40.70%   20:00        9796   Lose  \n",
       "46    9.2   No     67.40%   17:30       10824    Win  \n",
       "61    9.9   No        39%   15:00        9793    Win  \n",
       "98    9.9   No     51.60%   15:00        8190    Win  \n",
       "125   9.2   No     67.40%   17:30       10824    Win  \n",
       "133   7.6   No     40.70%   20:00        9796   Lose  \n",
       "141  12.5   No     47.20%   12:30        8888   Lose  \n",
       "158   9.9   No        39%   15:00        9793    Win  \n",
       "165  12.5   No     47.20%   12:30        8888   Lose  \n",
       "196   9.9   No     51.60%   15:00        8190    Win  "
      ]
     },
     "execution_count": 8,
     "metadata": {},
     "output_type": "execute_result"
    }
   ],
   "source": [
    "Matches_Data.loc[Matches_Data.duplicated(keep=False), :] #Identify Location of Duplicate Data\n"
   ]
  },
  {
   "cell_type": "code",
   "execution_count": 9,
   "id": "5219db66",
   "metadata": {},
   "outputs": [],
   "source": [
    "Matches_Clean = Matches_Data.drop_duplicates()"
   ]
  },
  {
   "cell_type": "code",
   "execution_count": 10,
   "id": "9aed36ba",
   "metadata": {},
   "outputs": [
    {
     "data": {
      "text/plain": [
       "(193, 15)"
      ]
     },
     "execution_count": 10,
     "metadata": {},
     "output_type": "execute_result"
    }
   ],
   "source": [
    "Matches_Clean.shape"
   ]
  },
  {
   "cell_type": "markdown",
   "id": "fa17f40d",
   "metadata": {},
   "source": [
    "###### Question 2"
   ]
  },
  {
   "cell_type": "code",
   "execution_count": 11,
   "id": "1908c93e",
   "metadata": {},
   "outputs": [],
   "source": [
    "#Datatype Conversion for Possesion Column"
   ]
  },
  {
   "cell_type": "code",
   "execution_count": 12,
   "id": "af7e4906",
   "metadata": {},
   "outputs": [],
   "source": [
    "Matches_Possession = Matches_Clean['Possession']\n",
    "Matches_Possession_strip = Matches_Possession.str.replace('%', '')\n",
    "Percent_Possession = round(Matches_Possession_strip.astype(float))\n",
    "Matches_Clean = Matches_Clean.assign(Percent_POS=Percent_Possession)"
   ]
  },
  {
   "cell_type": "code",
   "execution_count": null,
   "id": "719cc6ea",
   "metadata": {},
   "outputs": [],
   "source": []
  },
  {
   "cell_type": "code",
   "execution_count": 13,
   "id": "7efb7479",
   "metadata": {},
   "outputs": [],
   "source": [
    "#Datatype Conversion for Training Column"
   ]
  },
  {
   "cell_type": "code",
   "execution_count": 14,
   "id": "12d19961",
   "metadata": {},
   "outputs": [],
   "source": [
    "C = Matches_Clean['Training'].str.replace(\"hr\",\"\").str.replace(\"min\",\"\")\n",
    "C1 = C.str.split(\" \", expand=True).astype(float)\n",
    "C1.columns =[\"hr\",\"min\"]\n",
    "HR = C1[\"hr\"] + C1[\"min\"]/60\n",
    "Matches_Clean = Matches_Clean.assign(HRS_Training=HR)\n",
    "\n"
   ]
  },
  {
   "cell_type": "code",
   "execution_count": 15,
   "id": "a4a0925f",
   "metadata": {},
   "outputs": [
    {
     "data": {
      "text/html": [
       "<div>\n",
       "<style scoped>\n",
       "    .dataframe tbody tr th:only-of-type {\n",
       "        vertical-align: middle;\n",
       "    }\n",
       "\n",
       "    .dataframe tbody tr th {\n",
       "        vertical-align: top;\n",
       "    }\n",
       "\n",
       "    .dataframe thead th {\n",
       "        text-align: right;\n",
       "    }\n",
       "</style>\n",
       "<table border=\"1\" class=\"dataframe\">\n",
       "  <thead>\n",
       "    <tr style=\"text-align: right;\">\n",
       "      <th></th>\n",
       "      <th>Day</th>\n",
       "      <th>Month</th>\n",
       "      <th>Training</th>\n",
       "      <th>Injuries</th>\n",
       "      <th>OppPtsDiff</th>\n",
       "      <th>RedCards</th>\n",
       "      <th>Venue</th>\n",
       "      <th>Temp</th>\n",
       "      <th>Rain</th>\n",
       "      <th>Wind</th>\n",
       "      <th>Snow</th>\n",
       "      <th>Possession</th>\n",
       "      <th>KickOff</th>\n",
       "      <th>Supporters</th>\n",
       "      <th>Result</th>\n",
       "      <th>Percent_POS</th>\n",
       "      <th>HRS_Training</th>\n",
       "    </tr>\n",
       "  </thead>\n",
       "  <tbody>\n",
       "    <tr>\n",
       "      <th>0</th>\n",
       "      <td>Sat</td>\n",
       "      <td>Jan</td>\n",
       "      <td>4hr 0min</td>\n",
       "      <td>0</td>\n",
       "      <td>-11</td>\n",
       "      <td>0</td>\n",
       "      <td>Home</td>\n",
       "      <td>3.3</td>\n",
       "      <td>0.6</td>\n",
       "      <td>8.0</td>\n",
       "      <td>No</td>\n",
       "      <td>45.60%</td>\n",
       "      <td>12:30</td>\n",
       "      <td>10845</td>\n",
       "      <td>Win</td>\n",
       "      <td>46.0</td>\n",
       "      <td>4.00</td>\n",
       "    </tr>\n",
       "    <tr>\n",
       "      <th>1</th>\n",
       "      <td>Wed</td>\n",
       "      <td>Jan</td>\n",
       "      <td>4hr 45min</td>\n",
       "      <td>1</td>\n",
       "      <td>-19</td>\n",
       "      <td>0</td>\n",
       "      <td>Away</td>\n",
       "      <td>8.4</td>\n",
       "      <td>4.4</td>\n",
       "      <td>1.7</td>\n",
       "      <td>No</td>\n",
       "      <td>36%</td>\n",
       "      <td>18:00</td>\n",
       "      <td>6846</td>\n",
       "      <td>Lose</td>\n",
       "      <td>36.0</td>\n",
       "      <td>4.75</td>\n",
       "    </tr>\n",
       "  </tbody>\n",
       "</table>\n",
       "</div>"
      ],
      "text/plain": [
       "   Day Month   Training  Injuries  OppPtsDiff  RedCards Venue  Temp  Rain  \\\n",
       "0  Sat   Jan   4hr 0min         0         -11         0  Home   3.3   0.6   \n",
       "1  Wed   Jan  4hr 45min         1         -19         0  Away   8.4   4.4   \n",
       "\n",
       "   Wind Snow Possession KickOff  Supporters Result  Percent_POS  HRS_Training  \n",
       "0   8.0   No     45.60%   12:30       10845    Win         46.0          4.00  \n",
       "1   1.7   No        36%   18:00        6846   Lose         36.0          4.75  "
      ]
     },
     "execution_count": 15,
     "metadata": {},
     "output_type": "execute_result"
    }
   ],
   "source": [
    "Matches_Clean.head(2)"
   ]
  },
  {
   "cell_type": "code",
   "execution_count": 16,
   "id": "6a441dc8",
   "metadata": {},
   "outputs": [],
   "source": [
    "#Dropping Duplicated Columns\n",
    "\n",
    "Matches_Clean = Matches_Clean.drop(columns=['Training','Possession'])\n",
    "\n",
    "Matches_Clean = Matches_Clean.rename(columns={\"Percent_POS\": \"Possession\", \"HRS_Training\": \"Training\"})"
   ]
  },
  {
   "cell_type": "code",
   "execution_count": null,
   "id": "60cad828",
   "metadata": {},
   "outputs": [],
   "source": []
  },
  {
   "cell_type": "markdown",
   "id": "235c3796",
   "metadata": {},
   "source": [
    "### Data Exploration Tasks"
   ]
  },
  {
   "cell_type": "markdown",
   "id": "8da979bf",
   "metadata": {},
   "source": [
    "###### Question 3"
   ]
  },
  {
   "cell_type": "code",
   "execution_count": 17,
   "id": "4ffab0b6",
   "metadata": {},
   "outputs": [],
   "source": [
    "# Summarized Statistics For Numerical Columns Supporters"
   ]
  },
  {
   "cell_type": "code",
   "execution_count": 18,
   "id": "ebc2c42f",
   "metadata": {},
   "outputs": [
    {
     "name": "stdout",
     "output_type": "stream",
     "text": [
      "Measures of central location\n",
      "mean =  9974.42487046632\n",
      "median =  10120.0\n"
     ]
    }
   ],
   "source": [
    "Matches_Clean[\"Supporters\"].describe()\n",
    "print(\"Measures of central location\")\n",
    "print(\"mean = \", Matches_Clean[\"Supporters\"].mean())\n",
    "print(\"median = \",Matches_Clean[\"Supporters\"].median())"
   ]
  },
  {
   "cell_type": "code",
   "execution_count": 19,
   "id": "3df1621d",
   "metadata": {},
   "outputs": [
    {
     "name": "stdout",
     "output_type": "stream",
     "text": [
      "SKEWNESS OF SUPPORTERS : -0.03982326360159741\n",
      "KURTOSIS OF SUPPORTERS : 0.08648670841090578\n",
      "Distribution by Supporters looks normally distributed\n"
     ]
    },
    {
     "data": {
      "image/png": "[encoded data removed]",
      "text/plain": [
       "<Figure size 1000x300 with 2 Axes>"
      ]
     },
     "metadata": {},
     "output_type": "display_data"
    }
   ],
   "source": [
    "fig, ax = plt.subplots(1, 2, figsize=(10, 3))\n",
    "Matches_Clean['Supporters'].plot.hist(bins = 30, ax = ax[0])\n",
    "Matches_Clean['Supporters'].plot.box()\n",
    "\n",
    "print(\"SKEWNESS OF SUPPORTERS :\", Matches_Clean['Supporters'].skew())\n",
    "print(\"KURTOSIS OF SUPPORTERS :\", Matches_Clean['Supporters'].kurtosis())\n",
    "print(\"Distribution by Supporters looks normally distributed\")"
   ]
  },
  {
   "cell_type": "code",
   "execution_count": null,
   "id": "5a8a0262",
   "metadata": {},
   "outputs": [],
   "source": []
  },
  {
   "cell_type": "markdown",
   "id": "32fddcaa",
   "metadata": {},
   "source": [
    "###### Question 4"
   ]
  },
  {
   "cell_type": "code",
   "execution_count": 20,
   "id": "47d24760",
   "metadata": {},
   "outputs": [],
   "source": [
    "# Summarized Statistics For Temp"
   ]
  },
  {
   "cell_type": "code",
   "execution_count": 35,
   "id": "35adf72c",
   "metadata": {},
   "outputs": [
    {
     "name": "stdout",
     "output_type": "stream",
     "text": [
      "Measures of central location\n",
      "mean =  10.162176165803107\n",
      "median =  10.2\n"
     ]
    }
   ],
   "source": [
    "print(\"Measures of central location\")\n",
    "print(\"mean = \", Matches_Clean[\"Temp\"].mean())\n",
    "print(\"median = \",Matches_Clean[\"Temp\"].median())"
   ]
  },
  {
   "cell_type": "code",
   "execution_count": 20,
   "id": "7deaffb4",
   "metadata": {},
   "outputs": [
    {
     "name": "stdout",
     "output_type": "stream",
     "text": [
      "SKEWNESS OF Temp : -0.03346514892720677\n",
      "KURTOSIS OF Temp : 0.1294466721089509\n",
      "Distribution by Temp looks normally distributed\n"
     ]
    },
    {
     "data": {
      "image/png": "[encoded data removed]",
      "text/plain": [
       "<Figure size 1000x300 with 2 Axes>"
      ]
     },
     "metadata": {},
     "output_type": "display_data"
    }
   ],
   "source": [
    "fig, ax = plt.subplots(1, 2, figsize=(10, 3))\n",
    "Matches_Clean['Temp'].plot.hist(bins = 20, ax = ax[0])\n",
    "Matches_Clean['Temp'].plot.box()\n",
    "\n",
    "print(\"SKEWNESS OF Temp :\", Matches_Clean['Temp'].skew())\n",
    "print(\"KURTOSIS OF Temp :\", Matches_Clean['Temp'].kurtosis())\n",
    "print(\"Distribution by Temp looks normally distributed\")"
   ]
  },
  {
   "cell_type": "code",
   "execution_count": 21,
   "id": "fbcc0c22",
   "metadata": {},
   "outputs": [],
   "source": [
    "# Summarized Statistics For Wind"
   ]
  },
  {
   "cell_type": "code",
   "execution_count": 36,
   "id": "e6564842",
   "metadata": {},
   "outputs": [
    {
     "name": "stdout",
     "output_type": "stream",
     "text": [
      "Measures of central location\n",
      "mean =  9.445595854922283\n",
      "median =  8.4\n"
     ]
    }
   ],
   "source": [
    "print(\"Measures of central location\")\n",
    "print(\"mean = \", Matches_Clean[\"Wind\"].mean())\n",
    "print(\"median = \",Matches_Clean[\"Wind\"].median())"
   ]
  },
  {
   "cell_type": "code",
   "execution_count": 22,
   "id": "9054a986",
   "metadata": {},
   "outputs": [
    {
     "name": "stdout",
     "output_type": "stream",
     "text": [
      "SKEWNESS OF Wind : 0.9515335297050752\n",
      "KURTOSIS OF Wind : 1.1948833925610498\n",
      "Distribution by Wind is positively skewed distribution\n"
     ]
    },
    {
     "data": {
      "image/png": "[encoded data removed]",
      "text/plain": [
       "<Figure size 1000x300 with 2 Axes>"
      ]
     },
     "metadata": {},
     "output_type": "display_data"
    }
   ],
   "source": [
    "fig, ax = plt.subplots(1, 2, figsize=(10, 3))\n",
    "Matches_Clean['Wind'].plot.hist(bins = 20, ax = ax[0])\n",
    "Matches_Clean['Wind'].plot.box()\n",
    "\n",
    "print(\"SKEWNESS OF Wind :\", Matches_Clean['Wind'].skew())\n",
    "print(\"KURTOSIS OF Wind :\", Matches_Clean['Wind'].kurtosis())\n",
    "print(\"Distribution by Wind is positively skewed distribution\")"
   ]
  },
  {
   "cell_type": "code",
   "execution_count": null,
   "id": "08da0def",
   "metadata": {},
   "outputs": [],
   "source": []
  },
  {
   "cell_type": "code",
   "execution_count": null,
   "id": "3a99f99d",
   "metadata": {},
   "outputs": [],
   "source": []
  },
  {
   "cell_type": "code",
   "execution_count": null,
   "id": "0702cfc6",
   "metadata": {},
   "outputs": [],
   "source": []
  },
  {
   "cell_type": "markdown",
   "id": "2e038527",
   "metadata": {},
   "source": [
    "###### Question 5"
   ]
  },
  {
   "cell_type": "code",
   "execution_count": 23,
   "id": "bcf69487",
   "metadata": {},
   "outputs": [],
   "source": [
    "# Summarized Statistics For Result"
   ]
  },
  {
   "cell_type": "code",
   "execution_count": 24,
   "id": "8ab46b84",
   "metadata": {},
   "outputs": [
    {
     "data": {
      "text/plain": [
       "Lose    96\n",
       "Win     73\n",
       "Draw    24\n",
       "Name: Result, dtype: int64"
      ]
     },
     "execution_count": 24,
     "metadata": {},
     "output_type": "execute_result"
    }
   ],
   "source": [
    "Matches_Clean[\"Result\"].value_counts()"
   ]
  },
  {
   "cell_type": "code",
   "execution_count": null,
   "id": "62b048d0",
   "metadata": {},
   "outputs": [],
   "source": []
  },
  {
   "cell_type": "code",
   "execution_count": 25,
   "id": "3ebc6456",
   "metadata": {},
   "outputs": [
    {
     "name": "stdout",
     "output_type": "stream",
     "text": [
      "Measures of central location\n",
      "mode =  0    Lose\n",
      "Name: Result, dtype: object\n"
     ]
    },
    {
     "data": {
      "image/png": "[encoded data removed]",
      "text/plain": [
       "<Figure size 640x480 with 1 Axes>"
      ]
     },
     "metadata": {},
     "output_type": "display_data"
    }
   ],
   "source": [
    "print(\"Measures of central location\")\n",
    "print(\"mode = \", Matches_Clean['Result'].mode())\n",
    "Matches_Clean['Result'].value_counts().plot.bar()\n",
    "plt.show()"
   ]
  },
  {
   "cell_type": "code",
   "execution_count": null,
   "id": "a2efa14c",
   "metadata": {},
   "outputs": [],
   "source": []
  },
  {
   "cell_type": "markdown",
   "id": "ca23c35f",
   "metadata": {},
   "source": [
    "###### Question 6"
   ]
  },
  {
   "cell_type": "code",
   "execution_count": 26,
   "id": "14c3597a",
   "metadata": {},
   "outputs": [],
   "source": [
    "# Summarized Statistics For Result"
   ]
  },
  {
   "cell_type": "code",
   "execution_count": 27,
   "id": "4191be2d",
   "metadata": {},
   "outputs": [
    {
     "data": {
      "text/plain": [
       "No     173\n",
       "Yes     20\n",
       "Name: Snow, dtype: int64"
      ]
     },
     "execution_count": 27,
     "metadata": {},
     "output_type": "execute_result"
    }
   ],
   "source": [
    "Matches_Clean[\"Snow\"].value_counts()"
   ]
  },
  {
   "cell_type": "code",
   "execution_count": 28,
   "id": "e465a697",
   "metadata": {},
   "outputs": [
    {
     "name": "stdout",
     "output_type": "stream",
     "text": [
      "Measures of central location\n",
      "mode =  0    No\n",
      "Name: Snow, dtype: object\n"
     ]
    },
    {
     "data": {
      "image/png": "[encoded data removed]",
      "text/plain": [
       "<Figure size 640x480 with 1 Axes>"
      ]
     },
     "metadata": {},
     "output_type": "display_data"
    }
   ],
   "source": [
    "print(\"Measures of central location\")\n",
    "print(\"mode = \", Matches_Clean['Snow'].mode())\n",
    "Matches_Clean['Snow'].value_counts().plot.bar()\n",
    "plt.show()"
   ]
  },
  {
   "cell_type": "code",
   "execution_count": null,
   "id": "7a3580e9",
   "metadata": {},
   "outputs": [],
   "source": []
  },
  {
   "cell_type": "markdown",
   "id": "c4fddf42",
   "metadata": {},
   "source": [
    "### Bivariate Data Exploration Tasks"
   ]
  },
  {
   "cell_type": "markdown",
   "id": "c7c3f363",
   "metadata": {},
   "source": [
    "###### Question 7"
   ]
  },
  {
   "cell_type": "code",
   "execution_count": 29,
   "id": "f3cea671",
   "metadata": {},
   "outputs": [],
   "source": [
    "# Statistics and distribution of Supporters against one of the categorical variables"
   ]
  },
  {
   "cell_type": "code",
   "execution_count": 30,
   "id": "2919fca8",
   "metadata": {},
   "outputs": [
    {
     "data": {
      "image/png": "[encoded data removed]",
      "text/plain": [
       "<Figure size 640x480 with 1 Axes>"
      ]
     },
     "metadata": {},
     "output_type": "display_data"
    },
    {
     "name": "stdout",
     "output_type": "stream",
     "text": [
      "Supporters Attend Matches More On Saturday\n"
     ]
    }
   ],
   "source": [
    "Matches_Clean.boxplot('Supporters', by = 'Day')\n",
    "plt.show()\n",
    "print (\"Supporters Attend Matches More On Saturday\")"
   ]
  },
  {
   "cell_type": "code",
   "execution_count": null,
   "id": "58167ede",
   "metadata": {},
   "outputs": [],
   "source": []
  },
  {
   "cell_type": "markdown",
   "id": "69a5a87c",
   "metadata": {},
   "source": [
    "###### Question 8"
   ]
  },
  {
   "cell_type": "code",
   "execution_count": 31,
   "id": "0ca10464",
   "metadata": {},
   "outputs": [],
   "source": [
    "#The correlation of Supporters against the other numerical variables. "
   ]
  },
  {
   "cell_type": "code",
   "execution_count": 32,
   "id": "023353b8",
   "metadata": {},
   "outputs": [
    {
     "data": {
      "text/html": [
       "<div>\n",
       "<style scoped>\n",
       "    .dataframe tbody tr th:only-of-type {\n",
       "        vertical-align: middle;\n",
       "    }\n",
       "\n",
       "    .dataframe tbody tr th {\n",
       "        vertical-align: top;\n",
       "    }\n",
       "\n",
       "    .dataframe thead th {\n",
       "        text-align: right;\n",
       "    }\n",
       "</style>\n",
       "<table border=\"1\" class=\"dataframe\">\n",
       "  <thead>\n",
       "    <tr style=\"text-align: right;\">\n",
       "      <th></th>\n",
       "      <th>Day</th>\n",
       "      <th>Month</th>\n",
       "      <th>Injuries</th>\n",
       "      <th>OppPtsDiff</th>\n",
       "      <th>RedCards</th>\n",
       "      <th>Venue</th>\n",
       "      <th>Temp</th>\n",
       "      <th>Rain</th>\n",
       "      <th>Wind</th>\n",
       "      <th>Snow</th>\n",
       "      <th>KickOff</th>\n",
       "      <th>Supporters</th>\n",
       "      <th>Result</th>\n",
       "      <th>Possession</th>\n",
       "      <th>Training</th>\n",
       "    </tr>\n",
       "  </thead>\n",
       "  <tbody>\n",
       "    <tr>\n",
       "      <th>0</th>\n",
       "      <td>Sat</td>\n",
       "      <td>Jan</td>\n",
       "      <td>0</td>\n",
       "      <td>-11</td>\n",
       "      <td>0</td>\n",
       "      <td>Home</td>\n",
       "      <td>3.3</td>\n",
       "      <td>0.6</td>\n",
       "      <td>8.0</td>\n",
       "      <td>No</td>\n",
       "      <td>12:30</td>\n",
       "      <td>10845</td>\n",
       "      <td>Win</td>\n",
       "      <td>46.0</td>\n",
       "      <td>4.00</td>\n",
       "    </tr>\n",
       "    <tr>\n",
       "      <th>1</th>\n",
       "      <td>Wed</td>\n",
       "      <td>Jan</td>\n",
       "      <td>1</td>\n",
       "      <td>-19</td>\n",
       "      <td>0</td>\n",
       "      <td>Away</td>\n",
       "      <td>8.4</td>\n",
       "      <td>4.4</td>\n",
       "      <td>1.7</td>\n",
       "      <td>No</td>\n",
       "      <td>18:00</td>\n",
       "      <td>6846</td>\n",
       "      <td>Lose</td>\n",
       "      <td>36.0</td>\n",
       "      <td>4.75</td>\n",
       "    </tr>\n",
       "  </tbody>\n",
       "</table>\n",
       "</div>"
      ],
      "text/plain": [
       "   Day Month  Injuries  OppPtsDiff  RedCards Venue  Temp  Rain  Wind Snow  \\\n",
       "0  Sat   Jan         0         -11         0  Home   3.3   0.6   8.0   No   \n",
       "1  Wed   Jan         1         -19         0  Away   8.4   4.4   1.7   No   \n",
       "\n",
       "  KickOff  Supporters Result  Possession  Training  \n",
       "0   12:30       10845    Win        46.0      4.00  \n",
       "1   18:00        6846   Lose        36.0      4.75  "
      ]
     },
     "execution_count": 32,
     "metadata": {},
     "output_type": "execute_result"
    }
   ],
   "source": [
    "Matches_Clean.head(2)"
   ]
  },
  {
   "cell_type": "code",
   "execution_count": null,
   "id": "e51aa83f",
   "metadata": {},
   "outputs": [],
   "source": []
  },
  {
   "cell_type": "code",
   "execution_count": null,
   "id": "0aca75f8",
   "metadata": {},
   "outputs": [],
   "source": [
    "print (\"Correlation : Supporters ~ Rain\")\n",
    "#Matches_Clean.corr()\n",
    "sns.heatmap(Matches_Clean.corr())\n"
   ]
  },
  {
   "cell_type": "code",
   "execution_count": null,
   "id": "0dc70cc9",
   "metadata": {},
   "outputs": [],
   "source": []
  },
  {
   "cell_type": "code",
   "execution_count": null,
   "id": "e278d3f8",
   "metadata": {
    "scrolled": false
   },
   "outputs": [],
   "source": [
    "Matches_Clean.plot.scatter(x = \"Supporters\", y = \"Rain\", color =\"Brown\")\n",
    "plt.show()\n",
    "print(\" poor correlation \")"
   ]
  },
  {
   "cell_type": "code",
   "execution_count": null,
   "id": "f3adb10f",
   "metadata": {},
   "outputs": [],
   "source": []
  },
  {
   "cell_type": "code",
   "execution_count": null,
   "id": "301a4f08",
   "metadata": {},
   "outputs": [],
   "source": []
  },
  {
   "cell_type": "code",
   "execution_count": null,
   "id": "e87f3448",
   "metadata": {
    "scrolled": false
   },
   "outputs": [],
   "source": [
    "Matches_Clean.plot.scatter(x = \"Supporters\", y = \"Training\", color =\"Blue\")\n",
    "plt.show()\n",
    "print(\"very low correlation\")\n",
    "print(\"little evidence to support relationship and training\")"
   ]
  },
  {
   "cell_type": "code",
   "execution_count": null,
   "id": "4ac305d3",
   "metadata": {},
   "outputs": [],
   "source": []
  },
  {
   "cell_type": "code",
   "execution_count": null,
   "id": "e5cb4f75",
   "metadata": {},
   "outputs": [],
   "source": [
    "Matches_Clean.boxplot('Supporters', by='KickOff')\n",
    "plt.show()\n",
    "print(\"More Supporters Attend Games At 19.00 and 14.00\")\n"
   ]
  },
  {
   "cell_type": "code",
   "execution_count": null,
   "id": "e53c89fa",
   "metadata": {},
   "outputs": [],
   "source": []
  },
  {
   "cell_type": "markdown",
   "id": "f0390b48",
   "metadata": {},
   "source": [
    "###### Question 9"
   ]
  },
  {
   "cell_type": "code",
   "execution_count": null,
   "id": "7274689b",
   "metadata": {},
   "outputs": [],
   "source": [
    "#The cross-tabulation of Results against a category that has a significant effect on the results"
   ]
  },
  {
   "cell_type": "code",
   "execution_count": null,
   "id": "48cd71f3",
   "metadata": {},
   "outputs": [],
   "source": []
  },
  {
   "cell_type": "code",
   "execution_count": 38,
   "id": "f5ca1354",
   "metadata": {},
   "outputs": [
    {
     "name": "stdout",
     "output_type": "stream",
     "text": [
      "Result Is Poor When Games Are Played Away \n"
     ]
    },
    {
     "data": {
      "image/png": "[encoded data removed]",
      "text/plain": [
       "<Figure size 640x480 with 1 Axes>"
      ]
     },
     "metadata": {},
     "output_type": "display_data"
    }
   ],
   "source": [
    "pd.crosstab(Matches_Clean['Result'],Matches_Clean['Venue']).plot.bar(stacked = True)\n",
    "print(\"Result Is Poor When Games Are Played Away \")\n"
   ]
  },
  {
   "cell_type": "code",
   "execution_count": null,
   "id": "352b7b5e",
   "metadata": {},
   "outputs": [],
   "source": []
  },
  {
   "cell_type": "markdown",
   "id": "09550d76",
   "metadata": {},
   "source": [
    "### Data Transformation Tasks"
   ]
  },
  {
   "cell_type": "markdown",
   "id": "6ba337ea",
   "metadata": {},
   "source": [
    "###### Question 10"
   ]
  },
  {
   "cell_type": "code",
   "execution_count": null,
   "id": "dc26cdca",
   "metadata": {},
   "outputs": [],
   "source": [
    "#Create a new data frame called homeMatches"
   ]
  },
  {
   "cell_type": "code",
   "execution_count": null,
   "id": "fccf2bd2",
   "metadata": {},
   "outputs": [],
   "source": [
    "homeMatches = Matches_Clean[(Matches_Clean[\"Venue\"] ==\"Home\") & (Matches_Clean[\"OppPtsDiff\"] > 0 )]"
   ]
  },
  {
   "cell_type": "code",
   "execution_count": null,
   "id": "d5ac77f9",
   "metadata": {},
   "outputs": [],
   "source": [
    "homeMatches.head(2)"
   ]
  },
  {
   "cell_type": "code",
   "execution_count": null,
   "id": "22ba9dbc",
   "metadata": {},
   "outputs": [],
   "source": []
  },
  {
   "cell_type": "code",
   "execution_count": null,
   "id": "eeee87b0",
   "metadata": {},
   "outputs": [],
   "source": [
    "sns.scatterplot(x = \"Supporters\", y = \"OppPtsDiff\", hue=\"Day\", data=homeMatches)"
   ]
  },
  {
   "cell_type": "code",
   "execution_count": null,
   "id": "eddc51e7",
   "metadata": {},
   "outputs": [],
   "source": []
  },
  {
   "cell_type": "markdown",
   "id": "72a97def",
   "metadata": {},
   "source": [
    "###### Question 11"
   ]
  },
  {
   "cell_type": "code",
   "execution_count": null,
   "id": "48619310",
   "metadata": {},
   "outputs": [],
   "source": [
    "#In the homeMatches dataset create a new data column called InjuriesPerTrainingHour"
   ]
  },
  {
   "cell_type": "code",
   "execution_count": null,
   "id": "9774f2e3",
   "metadata": {},
   "outputs": [],
   "source": [
    "injury = homeMatches[\"Injuries\"]\n",
    "training = homeMatches[\"Training\"]\n"
   ]
  },
  {
   "cell_type": "code",
   "execution_count": null,
   "id": "a8129de6",
   "metadata": {},
   "outputs": [],
   "source": [
    "InJ = injury / training\n"
   ]
  },
  {
   "cell_type": "code",
   "execution_count": null,
   "id": "2a25e50d",
   "metadata": {},
   "outputs": [],
   "source": [
    "homeMatches= homeMatches.assign(InjuriesPerTrainingHour=InJ)"
   ]
  },
  {
   "cell_type": "code",
   "execution_count": null,
   "id": "b8c9ffcc",
   "metadata": {},
   "outputs": [],
   "source": [
    "homeMatches['InjuriesPerTrainingHour'] = round(homeMatches['InjuriesPerTrainingHour'],2)"
   ]
  },
  {
   "cell_type": "code",
   "execution_count": null,
   "id": "79cdc14d",
   "metadata": {},
   "outputs": [],
   "source": [
    "homeMatches.head(2)"
   ]
  },
  {
   "cell_type": "code",
   "execution_count": null,
   "id": "6dce5ec0",
   "metadata": {},
   "outputs": [],
   "source": []
  },
  {
   "cell_type": "markdown",
   "id": "956fda4c",
   "metadata": {},
   "source": [
    "###### Question 12"
   ]
  },
  {
   "cell_type": "code",
   "execution_count": null,
   "id": "551ba5d2",
   "metadata": {},
   "outputs": [],
   "source": [
    "#In homeMatches transform KickOff into a column of type datetime."
   ]
  },
  {
   "cell_type": "code",
   "execution_count": null,
   "id": "67ad43d1",
   "metadata": {},
   "outputs": [],
   "source": [
    "KT = homeMatches[\"KickOff\"].astype('datetime64[ns]')"
   ]
  },
  {
   "cell_type": "code",
   "execution_count": null,
   "id": "b12b582b",
   "metadata": {},
   "outputs": [],
   "source": [
    "homeMatches = homeMatches.assign(KickOff_Date_Time=KT)"
   ]
  },
  {
   "cell_type": "code",
   "execution_count": null,
   "id": "dce57657",
   "metadata": {},
   "outputs": [],
   "source": [
    "homeMatches.head(2)"
   ]
  },
  {
   "cell_type": "code",
   "execution_count": null,
   "id": "cb2d6f40",
   "metadata": {},
   "outputs": [],
   "source": []
  },
  {
   "cell_type": "code",
   "execution_count": null,
   "id": "df87d556",
   "metadata": {},
   "outputs": [],
   "source": [
    "homeMatches = homeMatches.drop(columns=['KickOff'])\n",
    "\n",
    "homeMatches = homeMatches.rename(columns={\"KickOff_Date_Time\": \"KickOff\"})"
   ]
  },
  {
   "cell_type": "code",
   "execution_count": null,
   "id": "2edcaf3b",
   "metadata": {},
   "outputs": [],
   "source": [
    "homeMatches.dtypes"
   ]
  },
  {
   "cell_type": "code",
   "execution_count": null,
   "id": "b6d288ae",
   "metadata": {},
   "outputs": [],
   "source": [
    "homeMatches.tail(2)"
   ]
  },
  {
   "cell_type": "code",
   "execution_count": null,
   "id": "e4d0d507",
   "metadata": {},
   "outputs": [],
   "source": []
  },
  {
   "cell_type": "code",
   "execution_count": null,
   "id": "0b119524",
   "metadata": {},
   "outputs": [],
   "source": []
  },
  {
   "cell_type": "markdown",
   "id": "c4594250",
   "metadata": {},
   "source": [
    "###### Question 13"
   ]
  },
  {
   "cell_type": "code",
   "execution_count": null,
   "id": "17331526",
   "metadata": {},
   "outputs": [],
   "source": [
    "#Create a linear regression model to predict Supporters."
   ]
  },
  {
   "cell_type": "code",
   "execution_count": null,
   "id": "fc9b6097",
   "metadata": {},
   "outputs": [],
   "source": [
    "AxP = homeMatches.plot.scatter(x='Supporters', y='Temp', title='Attendance')"
   ]
  },
  {
   "cell_type": "code",
   "execution_count": null,
   "id": "1e3d4c19",
   "metadata": {},
   "outputs": [],
   "source": [
    "from statsmodels.formula.api import ols\n",
    "model_A = ols(\"Supporters ~ Temp\", data=Matches_Clean).fit()\n",
    "model_A.summary()"
   ]
  },
  {
   "cell_type": "code",
   "execution_count": null,
   "id": "caaf8de4",
   "metadata": {},
   "outputs": [],
   "source": [
    "### Visualise the relationship between x and y on a scatterplot\n",
    "ax = Matches_Clean.plot.scatter(x = 'Temp', y = 'Supporters')\n",
    "fittedline = model_A.predict()\n",
    "# Overlay best--fit line on same plot\n",
    "ax.plot(Matches_Clean['Temp'], fittedline, 'r', )#linewidth=2)\n",
    "plt.show()"
   ]
  },
  {
   "cell_type": "code",
   "execution_count": null,
   "id": "27b60c57",
   "metadata": {},
   "outputs": [],
   "source": [
    "from statsmodels.formula.api import ols \n",
    "model_B = ols(\"Supporters ~ Temp + Rain + Wind\", data = Matches_Clean).fit()\n",
    "print(model_B.summary())"
   ]
  },
  {
   "cell_type": "code",
   "execution_count": null,
   "id": "4477bf6c",
   "metadata": {},
   "outputs": [],
   "source": []
  },
  {
   "cell_type": "code",
   "execution_count": null,
   "id": "6cafd214",
   "metadata": {},
   "outputs": [],
   "source": []
  },
  {
   "cell_type": "code",
   "execution_count": null,
   "id": "1044e701",
   "metadata": {
    "scrolled": true
   },
   "outputs": [],
   "source": [
    "Matches_Clean.dtypes"
   ]
  },
  {
   "cell_type": "code",
   "execution_count": null,
   "id": "18cc0ca3",
   "metadata": {},
   "outputs": [],
   "source": [
    "Matches_Clean['Day'] = pd.Categorical(Matches_Clean.Day)\n",
    "Matches_Clean['Month'] = pd.Categorical(Matches_Clean.Month)"
   ]
  },
  {
   "cell_type": "code",
   "execution_count": null,
   "id": "db5162c9",
   "metadata": {},
   "outputs": [],
   "source": [
    "Matches_Clean.dtypes"
   ]
  },
  {
   "cell_type": "code",
   "execution_count": null,
   "id": "c839cd80",
   "metadata": {},
   "outputs": [],
   "source": []
  },
  {
   "cell_type": "code",
   "execution_count": null,
   "id": "1f6ecfbc",
   "metadata": {},
   "outputs": [],
   "source": []
  },
  {
   "cell_type": "code",
   "execution_count": null,
   "id": "249f538b",
   "metadata": {},
   "outputs": [],
   "source": []
  },
  {
   "cell_type": "code",
   "execution_count": null,
   "id": "ac27ff78",
   "metadata": {},
   "outputs": [],
   "source": []
  },
  {
   "cell_type": "code",
   "execution_count": null,
   "id": "8baf3d0f",
   "metadata": {},
   "outputs": [],
   "source": []
  },
  {
   "cell_type": "code",
   "execution_count": null,
   "id": "7e7cd847",
   "metadata": {},
   "outputs": [],
   "source": []
  },
  {
   "cell_type": "code",
   "execution_count": null,
   "id": "2ef9c45c",
   "metadata": {},
   "outputs": [],
   "source": [
    "from sklearn.linear_model import LinearRegression\n",
    "import sklearn.metrics as metrics"
   ]
  },
  {
   "cell_type": "code",
   "execution_count": null,
   "id": "30bb687c",
   "metadata": {},
   "outputs": [],
   "source": [
    "Lr = LinearRegression()\n",
    "y = Matches_Clean['Supporters']\n",
    "x = Matches_Clean[['Day','Result']]\n"
   ]
  },
  {
   "cell_type": "code",
   "execution_count": null,
   "id": "f3661e88",
   "metadata": {},
   "outputs": [],
   "source": [
    "x = pd.get_dummies(x)"
   ]
  },
  {
   "cell_type": "code",
   "execution_count": null,
   "id": "b5f86f3b",
   "metadata": {},
   "outputs": [],
   "source": [
    "x.head()"
   ]
  },
  {
   "cell_type": "code",
   "execution_count": null,
   "id": "7d91aa32",
   "metadata": {},
   "outputs": [],
   "source": [
    "model_D = Lr.fit(x,y)\n",
    "model_D.score(x,y)\n",
    "\n"
   ]
  },
  {
   "cell_type": "code",
   "execution_count": null,
   "id": "d3ad3829",
   "metadata": {},
   "outputs": [],
   "source": [
    "y_pred = model_D.predict(x)"
   ]
  },
  {
   "cell_type": "code",
   "execution_count": null,
   "id": "e2c3f344",
   "metadata": {},
   "outputs": [],
   "source": [
    "print(\"R^2(test) = \", metrics.r2_score(y, y_pred))\n",
    "print(\"MSE(test) = \", metrics.mean_squared_error(y, y_pred))\n",
    "print(\"MAE(test) = \", metrics.mean_absolute_error(y, y_pred))"
   ]
  },
  {
   "cell_type": "code",
   "execution_count": null,
   "id": "19387ea5",
   "metadata": {},
   "outputs": [],
   "source": [
    "print(\"coef = \",Lr.coef_, '\\n\\n\\n'\" intercept=\", Lr.intercept_)\n",
    "\n"
   ]
  },
  {
   "cell_type": "code",
   "execution_count": null,
   "id": "6e613501",
   "metadata": {},
   "outputs": [],
   "source": []
  },
  {
   "cell_type": "code",
   "execution_count": null,
   "id": "be38b0d3",
   "metadata": {},
   "outputs": [],
   "source": []
  },
  {
   "cell_type": "code",
   "execution_count": null,
   "id": "548793f4",
   "metadata": {},
   "outputs": [],
   "source": [
    "from sklearn.model_selection import train_test_split"
   ]
  },
  {
   "cell_type": "code",
   "execution_count": null,
   "id": "f300adac",
   "metadata": {},
   "outputs": [],
   "source": [
    "yL = Matches_Clean['Supporters']\n",
    "xL = Matches_Clean[['Day','Result','Month']]"
   ]
  },
  {
   "cell_type": "code",
   "execution_count": null,
   "id": "d8462003",
   "metadata": {},
   "outputs": [],
   "source": [
    "xT = pd.get_dummies(xL)"
   ]
  },
  {
   "cell_type": "code",
   "execution_count": null,
   "id": "eed3e220",
   "metadata": {},
   "outputs": [],
   "source": [
    "X_train, X_test, y_train, y_test = train_test_split(xT, yL, train_size=0.7, random_state=45)"
   ]
  },
  {
   "cell_type": "code",
   "execution_count": null,
   "id": "11349899",
   "metadata": {},
   "outputs": [],
   "source": [
    "model_E = Lr.fit(X_train,y_train)"
   ]
  },
  {
   "cell_type": "code",
   "execution_count": null,
   "id": "3d43a8c0",
   "metadata": {},
   "outputs": [],
   "source": [
    "y_pred = model_E.predict(X_test)\n",
    "print(\"R^2(test) = \", metrics.r2_score(y_test, y_pred))\n",
    "print(\"MSE(test) = \", metrics.mean_squared_error(y_test, y_pred))\n",
    "print(\"MAE(test) = \", metrics.mean_absolute_error(y_test, y_pred))"
   ]
  },
  {
   "cell_type": "code",
   "execution_count": null,
   "id": "f1ea5f6a",
   "metadata": {},
   "outputs": [],
   "source": []
  },
  {
   "cell_type": "code",
   "execution_count": null,
   "id": "723e7681",
   "metadata": {},
   "outputs": [],
   "source": []
  },
  {
   "cell_type": "markdown",
   "id": "f14a6b21",
   "metadata": {},
   "source": [
    "###### Question 15"
   ]
  },
  {
   "cell_type": "raw",
   "id": "100fa4d8",
   "metadata": {},
   "source": [
    "A)\n",
    "Personal data can be defined the collection of related information that can be used to identify or describe an individual. The General Data Protection Regulation framework regulates the collection and processing of personal data by organization inside the United Kingdom or organization that offers services to individuals from outside the United Kingdom. \n",
    "The measures to be put in place to enable the team use and process the personal information of club supporters must adhere to the major key principles of confidentiality, integrity and authenticity. \n",
    "We must be clear with the purpose of what the personal information is to be used. In this case the purpose is to offer discounted tickets which makes it Legal. \n",
    "Where we have no complied with relevant legislation, a fine of 4% of the total annual worldwide turnover in the preceding financial year or £17.5 million may be imposed.\n",
    "\n",
    "B) – Two Suggested Guidelines \n",
    "Team should ensure all personal data are retained for only as long as necessary and discarded when not in usage taking into consideration the regulatory and legal requirements.\n",
    "Team should communicate with Supporters to highlight how the organization collects and uses data, as it shows transparency. \n"
   ]
  },
  {
   "cell_type": "code",
   "execution_count": null,
   "id": "f327bb0a",
   "metadata": {},
   "outputs": [],
   "source": [
    "\n"
   ]
  },
  {
   "cell_type": "markdown",
   "id": "0d2f5930",
   "metadata": {},
   "source": [
    "###### REFERENCES:"
   ]
  },
  {
   "cell_type": "raw",
   "id": "715d7457",
   "metadata": {},
   "source": [
    " \n",
    "https://www.w3schools.com/\n",
    "https://stackoverflow.com/\n",
    "https://wiki.python.org/\n",
    "https://pandas.pydata.org/docs/\n",
    "https://www.data.gov.uk/"
   ]
  },
  {
   "cell_type": "code",
   "execution_count": null,
   "id": "57c7f29e",
   "metadata": {},
   "outputs": [],
   "source": []
  },
  {
   "cell_type": "code",
   "execution_count": null,
   "id": "fcf74637",
   "metadata": {},
   "outputs": [],
   "source": []
  }
 ],
 "metadata": {
  "kernelspec": {
   "display_name": "Python 3 (ipykernel)",
   "language": "python",
   "name": "python3"
  },
  "language_info": {
   "codemirror_mode": {
    "name": "ipython",
    "version": 3
   },
   "file_extension": ".py",
   "mimetype": "text/x-python",
   "name": "python",
   "nbconvert_exporter": "python",
   "pygments_lexer": "ipython3",
   "version": "3.11.1"
  }
 },
 "nbformat": 4,
 "nbformat_minor": 5
}
